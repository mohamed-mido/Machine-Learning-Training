{
  "nbformat": 4,
  "nbformat_minor": 0,
  "metadata": {
    "colab": {
      "name": "Assignment 2 Part 2.ipynb",
      "provenance": [],
      "authorship_tag": "ABX9TyNuh7unjcCLWGT5LVwW7fci",
      "include_colab_link": true
    },
    "kernelspec": {
      "name": "python3",
      "display_name": "Python 3"
    },
    "language_info": {
      "name": "python"
    }
  },
  "cells": [
    {
      "cell_type": "markdown",
      "metadata": {
        "id": "view-in-github",
        "colab_type": "text"
      },
      "source": [
        "<a href=\"https://colab.research.google.com/github/mohamed-mido/Machine-Learning-Training/blob/main/Assignment_2_Part_2.ipynb\" target=\"_parent\"><img src=\"https://colab.research.google.com/assets/colab-badge.svg\" alt=\"Open In Colab\"/></a>"
      ]
    },
    {
      "cell_type": "code",
      "metadata": {
        "id": "IIKFxi4mN5QG"
      },
      "source": [
        "from google.colab import drive\n",
        "drive.mount('/content/drive')"
      ],
      "execution_count": null,
      "outputs": []
    },
    {
      "cell_type": "code",
      "metadata": {
        "colab": {
          "base_uri": "https://localhost:8080/"
        },
        "id": "ulsjetTA_M9M",
        "outputId": "5c026712-3662-40f7-8791-fbabd56b3c0f"
      },
      "source": [
        "# Problem.8\n",
        "# Calculate the total of specific numbers\n",
        "\n",
        "def main():\n",
        "  # Open the numbers_file.txt file for reading.\n",
        "  num = open('/content/drive/MyDrive/numbers.txt', 'r')\n",
        "\n",
        "  # Initialize an accumulator to 0.0.\n",
        "  total = 0.0\n",
        "\n",
        "  # print('Here are the running times for each number:')\n",
        "\n",
        "  # Get the values from the file and sum the total of them.\n",
        "  for line in num:\n",
        "    # Convert a line to a float.\n",
        "    run_time = float(line)\n",
        "\n",
        "\n",
        "    # # Display the time.\n",
        "    print(run_time)\n",
        "\n",
        "    # Add the time to total.\n",
        "    total += run_time\n",
        "\n",
        "  # Close the file.\n",
        "  num.close()\n",
        "\n",
        "  # Display the total of the running times.\n",
        "  print('Total: ', total)\n",
        "\n",
        "# Call the main function.\n",
        "main()"
      ],
      "execution_count": 4,
      "outputs": [
        {
          "output_type": "stream",
          "text": [
            "86850343.0\n",
            "88065952.0\n",
            "89381968.0\n",
            "89536251.0\n",
            "89714939.0\n",
            "89826424.0\n",
            "90124775.0\n",
            "90672109.0\n",
            "91408453.0\n",
            "92438737.0\n",
            "93361277.0\n",
            "93890243.0\n",
            "94372638.0\n",
            "94759578.0\n",
            "95079649.0\n",
            "95439651.0\n",
            "95611217.0\n",
            "95980818.0\n",
            "96336673.0\n",
            "96581524.0\n",
            "97041824.0\n",
            "97379048.0\n",
            "97672500.0\n",
            "98066518.0\n",
            "98479598.0\n",
            "98934553.0\n",
            "99246321.0\n",
            "99431136.0\n",
            "99835823.0\n",
            "100049946.0\n",
            "100234498.0\n",
            "100568960.0\n",
            "100806870.0\n",
            "101097750.0\n",
            "101820859.0\n",
            "102455417.0\n",
            "103013163.0\n",
            "103523365.0\n",
            "104177442.0\n",
            "104757015.0\n",
            "105145703.0\n",
            "105694237.0\n",
            "106140898.0\n",
            "107246430.0\n",
            "109272544.0\n",
            "111539027.0\n",
            "112522852.0\n",
            "113783213.0\n",
            "114620610.0\n",
            "116036567.0\n",
            "117421727.0\n",
            "119134533.0\n",
            "120378586.0\n",
            "121554027.0\n",
            "121817833.0\n",
            "122730767.0\n",
            "123673909.0\n",
            "124747226.0\n",
            "Total:  5931486514.0\n"
          ],
          "name": "stdout"
        }
      ]
    },
    {
      "cell_type": "code",
      "metadata": {
        "colab": {
          "base_uri": "https://localhost:8080/"
        },
        "id": "FhxsPeEz_R0v",
        "outputId": "4a7dc788-04df-4d0e-9d20-849e1efa0ff1"
      },
      "source": [
        "# Problem.9\n",
        "# Calculate the Average of numbers\n",
        "\n",
        "def main():\n",
        "  # Open the numbers_file.txt file for reading.\n",
        "  num = open('/content/drive/MyDrive/numbers.txt', 'r')\n",
        "\n",
        "  # Initialize an accumulator to 0.0.\n",
        "  total = 0.0\n",
        "\n",
        "  # Initialize a variable to keep count of the videos.\n",
        "  count = 0\n",
        "\n",
        "  # print('Here are the running times for each number:')\n",
        "\n",
        "  # Get the values from the file and sum the total of them.\n",
        "  for line in num:\n",
        "    # Convert a line to a float.\n",
        "    run_time = float(line)\n",
        "\n",
        "  # Add 1 to the count variable.\n",
        "  count += 1\n",
        "\n",
        "    # Display the time.\n",
        "    #print(run_time)\n",
        "\n",
        "  # Add the time to total.\n",
        "  total += run_time\n",
        "\n",
        "  # Close the file.\n",
        "  num.close()\n",
        "\n",
        "  # Display the total of the running times.\n",
        "  print('Average: ', total/count)\n",
        "\n",
        "# Call the main function.\n",
        "main()"
      ],
      "execution_count": 8,
      "outputs": [
        {
          "output_type": "stream",
          "text": [
            "Average:  124747226.0\n"
          ],
          "name": "stdout"
        }
      ]
    },
    {
      "cell_type": "code",
      "metadata": {
        "colab": {
          "base_uri": "https://localhost:8080/"
        },
        "id": "JlnFQRS-_T39",
        "outputId": "7bb95f62-1ea5-4382-cdbe-c79a18907793"
      },
      "source": [
        "#Problem.10\n",
        "\n",
        "#To use random func.\n",
        "import random\n",
        "\n",
        "def main():\n",
        "  # Get the number of random numbers.\n",
        "  num_days = int(input('How many numbers? '))\n",
        "\n",
        "  # Open a new file named sales.txt.\n",
        "  sales_file = open('sales.txt', 'w')\n",
        "\n",
        "  # Get the amount of sales for each day and write it to the file.\n",
        "  for count in range(1, num_days + 1):\n",
        "\n",
        "    # Get the sales for a day.\n",
        "    sales = random.randint(1,500)\n",
        "\n",
        "    # Write the sales amount to the file.\n",
        "    sales_file.write(str(sales) + '\\n')\n",
        "\n",
        "  # Close the file.\n",
        "  sales_file.close()\n",
        "  print('Data written to sales.txt.')\n",
        "\n",
        "  # Call the main function.\n",
        "main()"
      ],
      "execution_count": 10,
      "outputs": [
        {
          "output_type": "stream",
          "text": [
            "How many numbers? 10\n",
            "Data written to sales.txt.\n"
          ],
          "name": "stdout"
        }
      ]
    },
    {
      "cell_type": "code",
      "metadata": {
        "colab": {
          "base_uri": "https://localhost:8080/"
        },
        "id": "ctQAloiE_V09",
        "outputId": "b65c323f-af3b-4e1f-88ed-a74480c2328a"
      },
      "source": [
        "#Problem.11\n",
        "\n",
        "def main():\n",
        "  # Initialize an accumulator.\n",
        "  total = 0.0\n",
        "\n",
        "  try:\n",
        "    # Open the numbers_file.txt file for reading.\n",
        "    num = open('numbers.txt', 'r')\n",
        "\n",
        "    # Initialize an accumulator to 0.0.\n",
        "    total = 0.0\n",
        "\n",
        "    # Initialize a variable to keep count of the videos.\n",
        "    count = 0\n",
        "\n",
        "    # print('Here are the running times for each number:')\n",
        "\n",
        "    # Get the values from the file and sum the total of them.\n",
        "    for line in num:\n",
        "      # Convert a line to a float.\n",
        "      run_time = float(line)\n",
        "\n",
        "    # Add 1 to the count variable.\n",
        "    count += 1\n",
        "\n",
        "      # Display the time.\n",
        "      #print(run_time)\n",
        "\n",
        "    # Add the time to total.\n",
        "    total += run_time\n",
        "\n",
        "    # Close the file.\n",
        "    num.close()\n",
        "\n",
        "    # Display the total of the running times.\n",
        "    print('Average: ', total/count)\n",
        "\n",
        "  except IOError:\n",
        "    print('An error occured trying to read the file.')\n",
        "\n",
        "  except ValueError:\n",
        "    print('Non-numeric data found in the file.')\n",
        "\n",
        "\n",
        "# Call the main function.\n",
        "main()"
      ],
      "execution_count": 12,
      "outputs": [
        {
          "output_type": "stream",
          "text": [
            "An error occured trying to read the file.\n"
          ],
          "name": "stdout"
        }
      ]
    }
  ]
}