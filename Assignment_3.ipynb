{
  "nbformat": 4,
  "nbformat_minor": 0,
  "metadata": {
    "colab": {
      "name": "Assignment 3.ipynb",
      "provenance": [],
      "collapsed_sections": [],
      "authorship_tag": "ABX9TyPt66V9mUMs/BA8xz3x8OUh",
      "include_colab_link": true
    },
    "kernelspec": {
      "name": "python3",
      "display_name": "Python 3"
    },
    "language_info": {
      "name": "python"
    }
  },
  "cells": [
    {
      "cell_type": "markdown",
      "metadata": {
        "id": "view-in-github",
        "colab_type": "text"
      },
      "source": [
        "<a href=\"https://colab.research.google.com/github/mohamed-mido/Machine-Learning-Training/blob/main/Assignment_3.ipynb\" target=\"_parent\"><img src=\"https://colab.research.google.com/assets/colab-badge.svg\" alt=\"Open In Colab\"/></a>"
      ]
    },
    {
      "cell_type": "code",
      "metadata": {
        "id": "1mElbXcHxffd",
        "colab": {
          "base_uri": "https://localhost:8080/"
        },
        "outputId": "4c0b7d26-36cd-4fd3-9d31-c93119142700"
      },
      "source": [
        "#Prob.1\n",
        "\n",
        "from random import randint\n",
        "\n",
        "Lottery= []\n",
        "for r in range(7):\n",
        " Lottery.append(randint(0, 9))\n",
        "\n",
        "print(Lottery)\n",
        "\n",
        "for n in Lottery:\n",
        "  print(n, end=' ')\n"
      ],
      "execution_count": null,
      "outputs": [
        {
          "output_type": "stream",
          "text": [
            "[4, 9, 9, 6, 3, 9, 2]\n",
            "4 9 9 6 3 9 2 "
          ],
          "name": "stdout"
        }
      ]
    },
    {
      "cell_type": "code",
      "metadata": {
        "colab": {
          "base_uri": "https://localhost:8080/"
        },
        "id": "17XbEghJ2GR6",
        "outputId": "412d772e-89dc-4ad9-ac4d-432307c68825"
      },
      "source": [
        "#Prob.2\n",
        "\n",
        "Rain_Stats = []\n",
        "\n",
        "print(\"please enter the total rainfall for each of the 12 months\\ starting from January\")\n",
        "\n",
        "for r in range(12):\n",
        "  Total_rain = int (input())\n",
        "  Rain_Stats.append(Total_rain)\n",
        "\n",
        "print(\"the total rainfall for the year: \", sum(Rain_Stats))\n",
        "print(\"the average monthly rainfall: \", sum(Rain_Stats)/12)\n",
        "\n",
        "print(\"The Highest rainfull is : \", max(Rain_Stats))\n",
        "print(\"The Lowesest rainfull is : \", min(Rain_Stats))\n"
      ],
      "execution_count": null,
      "outputs": [
        {
          "output_type": "stream",
          "text": [
            "please enter the total rainfall for each of the 12 months\\ starting from January\n",
            "2\n",
            "9\n",
            "4\n",
            "6\n",
            "7\n",
            "8\n",
            "10\n",
            "3\n",
            "5\n",
            "1\n",
            "15\n",
            "7\n",
            "the total rainfall for the year:  77\n",
            "the average monthly rainfall:  6.416666666666667\n",
            "The Highest rainfull is :  15\n",
            "The Lowesest rainfull is :  1\n"
          ],
          "name": "stdout"
        }
      ]
    },
    {
      "cell_type": "code",
      "metadata": {
        "colab": {
          "base_uri": "https://localhost:8080/"
        },
        "id": "019BaapogKzY",
        "outputId": "3d11ff17-4107-4154-fcc8-03c2bcb24a7d"
      },
      "source": [
        "#Prob.3\n",
        "\n",
        "def greater_than(List, n):\n",
        "  for L in List:\n",
        "    if L > n:\n",
        "      print(L, end=\" \")\n",
        "\n",
        "#Defined_list\n",
        "List = [1, 2, 8, 13]\n",
        "greater_than(List, 5)\n",
        "\n"
      ],
      "execution_count": 1,
      "outputs": [
        {
          "output_type": "stream",
          "text": [
            "8 13 "
          ],
          "name": "stdout"
        }
      ]
    },
    {
      "cell_type": "code",
      "metadata": {
        "colab": {
          "base_uri": "https://localhost:8080/"
        },
        "id": "xjlVZQTZizBi",
        "outputId": "0253d09a-eb51-44ab-b3a6-d88c015a0686"
      },
      "source": [
        "#Prob.4\n",
        "\n",
        "infile = open (\"WorldSeriesWinners.txt\",'r')\n",
        "a = []\n",
        "\n",
        "for line in infile:\n",
        "  line = line.rstrip(\"\\n\")\n",
        "  a.append(line)\n",
        "  \n",
        "infile.close()\n",
        "print(a)\n",
        "name = input(\"The Team Name\")\n",
        "win_count = a.count(name)\n",
        "\n",
        "len(a),win_count"
      ],
      "execution_count": 4,
      "outputs": [
        {
          "output_type": "stream",
          "text": [
            "['Boston Americans', 'New York Giants', 'Chicago White Sox', 'Chicago Cubs', 'Chicago Cubs', 'Pittsburgh Pirates', 'Philadelphia Athletics', 'Philadelphia Athletics', 'Boston Red Sox', 'Philadelphia Athletics', 'Boston Braves', 'Boston Red Sox', 'Boston Red Sox', 'Chicago White Sox', 'Boston Red Sox', 'Cincinnati Reds', 'Cleveland Indians', 'New York Giants', 'New York Giants', 'New York Yankees', 'Washington Senators', 'Pittsburgh Pirates', 'St. Louis Cardinals', 'New York Yankees', 'New York Yankees', 'Philadelphia Athletics', 'Philadelphia Athletics', 'St. Louis Cardinals', 'New York Yankees', 'New York Giants', 'St. Louis Cardinals', 'Detroit Tigers', 'New York Yankees', 'New York Yankees', 'New York Yankees', 'New York Yankees', 'Cincinnati Reds', 'New York Yankees', 'St. Louis Cardinals', 'New York Yankees', 'St. Louis Cardinals', 'Detroit Tigers', 'St. Louis Cardinals', 'New York Yankees', 'Cleveland Indians', 'New York Yankees', 'New York Yankees', 'New York Yankees', 'New York Yankees', 'New York Yankees', 'New York Giants', 'Brooklyn Dodgers', 'New York Yankees', 'Milwaukee Braves', 'New York Yankees', 'Los Angeles Dodgers', 'Pittsburgh Pirates', 'New York Yankees', 'New York Yankees', 'Los Angeles Dodgers', 'St. Louis Cardinals', 'Los Angeles Dodgers', 'Baltimore Orioles', 'St. Louis Cardinals', 'Detroit Tigers', 'New York Mets', 'Baltimore Orioles', 'Pittsburgh Pirates', 'Oakland Athletics', 'Oakland Athletics', 'Oakland Athletics', 'Cincinnati Reds', 'Cincinnati Reds', 'New York Yankees', 'New York Yankees', 'Pittsburgh Pirates', 'Philadelphia Phillies', 'Los Angeles Dodgers', 'St. Louis Cardinals', 'Baltimore Orioles', 'Detroit Tigers', 'Kansas City Royals', 'New York Mets', 'Minnesota Twins', 'Los Angeles Dodgers', 'Oakland Athletics', 'Cincinnati Reds', 'Minnesota Twins', 'Toronto Blue Jays', 'Toronto Blue Jays', 'Atlanta Braves', 'New York Yankees', 'Florida Marlins', 'New York Yankees', 'New York Yankees', 'New York Yankees', 'Arizona Diamondbacks', 'Anaheim Angels', 'Florida Marlins', 'Boston Red Sox', 'Chicago White Sox', 'St. Louis Cardinals', 'Boston Red Sox', 'Philadelphia Phillies']\n",
            "The Team NameSt. Louis Cardinals\n"
          ],
          "name": "stdout"
        },
        {
          "output_type": "execute_result",
          "data": {
            "text/plain": [
              "(104, 10)"
            ]
          },
          "metadata": {
            "tags": []
          },
          "execution_count": 4
        }
      ]
    },
    {
      "cell_type": "code",
      "metadata": {
        "colab": {
          "base_uri": "https://localhost:8080/"
        },
        "id": "2O3w1mGNlVJJ",
        "outputId": "3979d3c5-0842-42b9-bccf-2348a7fd143f"
      },
      "source": [
        "#Prob.6\n",
        "\n",
        "tele_std = {\"A\": 2, \"B\": 2, \"C\": 2, \"D\": 3, \"E\": 3, \"F\": 3,\n",
        "                 \"G\": 4,\"H\": 4, \"I\": 4, \"J\": 5, \"K\": 5, \"L\": 5, \n",
        "                 \"M\": 6,\"N\": 6, \"O\": 6, \"P\": 7, \"Q\": 7, \"R\": 7, \n",
        "                 \"S\": 7,\"T\": 8, \"U\": 8, \"V\": 8, \"W\": 9, \"X\": 9, \n",
        "                 \"Y\": 9, \"Z\": 9}\n",
        "\n",
        "tele_char = input(\"Please Enter a 10-character telephone number\\\n",
        "in the format \\'XXX-XXX-XXXX\\': \")\n",
        "\n",
        "num = \"\"\n",
        "for i in tele_char:\n",
        "    if i in tele_std:\n",
        "        num += str(tele_std[i])\n",
        "    else:\n",
        "        num += i\n",
        "\n",
        "print(\"The numeric equivalent is:\", num)"
      ],
      "execution_count": 6,
      "outputs": [
        {
          "output_type": "stream",
          "text": [
            "Please Enter a 10-character telephone numberin the format 'XXX-XXX-XXXX': FRE-BGB-5N3K\n",
            "The numeric equivalent is: 373-242-5635\n"
          ],
          "name": "stdout"
        }
      ]
    },
    {
      "cell_type": "code",
      "metadata": {
        "colab": {
          "base_uri": "https://localhost:8080/"
        },
        "id": "JYqypG3wl9nV",
        "outputId": "2bc03c30-a77f-4951-edcf-88d15ebaaad4"
      },
      "source": [
        "#Prob.7\n",
        "\n",
        "\n",
        "def capital_string(s):\n",
        "  lis = s.split('. ')\n",
        "  print(lis)\n",
        "  x = ''\n",
        "\n",
        " \n",
        "  for it1 in range(len(lis)):\n",
        "      x += lis[it1][0].capitalize()\n",
        "      x +=lis[it1][1:]\n",
        "\n",
        "      if it1 != (len(lis)-1):\n",
        "        x += '. ' \n",
        "  print(x)\n",
        "\n",
        "def main():\n",
        "    s = input('Enter your sentence: ')\n",
        "    capital_string(s) \n",
        "\n",
        "main()"
      ],
      "execution_count": 9,
      "outputs": [
        {
          "output_type": "stream",
          "text": [
            "Enter your sentence: Hi, How are you?\n",
            "['Hi, How are you?']\n",
            "Hi, How are you?\n"
          ],
          "name": "stdout"
        }
      ]
    },
    {
      "cell_type": "code",
      "metadata": {
        "colab": {
          "base_uri": "https://localhost:8080/"
        },
        "id": "RqCNJeCqnOhc",
        "outputId": "9dfae0ec-1293-4e52-e7c6-e0dc0024db36"
      },
      "source": [
        "#Prob.12\n",
        "\n",
        "courses_details = {'CS101': [3004, \"Haynes\", \"8:00 a.m.\"],\n",
        "                   'CS102': [4501, \"Alvarado\", \"9:00 a.m.\"],\n",
        "                   'CS103': [6755, \"Rich\", \"10:00 a.m.\"], \n",
        "                   'NT110': [1244, \"Burke\", \"11:00 a.m.\"],\n",
        "                   'CM241': [1411, \"Lee\", \"1:00 p.m.\"]}\n",
        "\n",
        "course_num = input(\"Please Enter The Course number: \")\n",
        "print(\"The course details are: \")\n",
        "print(\"Room: \",courses_details[course_num][0])\n",
        "print(\"Instructor: \",courses_details[course_num][1])\n",
        "print(\"Meeting Time: \",courses_details[course_num][2])"
      ],
      "execution_count": 10,
      "outputs": [
        {
          "output_type": "stream",
          "text": [
            "Please Enter Course number: NT110\n",
            "The course details are: \n",
            "Room:  1244\n",
            "Instructor:  Burke\n",
            "Meeting Time:  11:00 a.m.\n"
          ],
          "name": "stdout"
        }
      ]
    }
  ]
}