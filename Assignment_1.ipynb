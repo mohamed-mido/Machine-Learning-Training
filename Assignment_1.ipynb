{
  "nbformat": 4,
  "nbformat_minor": 0,
  "metadata": {
    "colab": {
      "name": "Assignment 1.ipynb",
      "provenance": [],
      "authorship_tag": "ABX9TyPhXo7fH0qQdUuJPysNYIFC",
      "include_colab_link": true
    },
    "kernelspec": {
      "name": "python3",
      "display_name": "Python 3"
    },
    "language_info": {
      "name": "python"
    }
  },
  "cells": [
    {
      "cell_type": "markdown",
      "metadata": {
        "id": "view-in-github",
        "colab_type": "text"
      },
      "source": [
        "<a href=\"https://colab.research.google.com/github/mohamed-mido/Machine-Learning-Training/blob/main/Assignment_1.ipynb\" target=\"_parent\"><img src=\"https://colab.research.google.com/assets/colab-badge.svg\" alt=\"Open In Colab\"/></a>"
      ]
    },
    {
      "cell_type": "code",
      "metadata": {
        "colab": {
          "base_uri": "https://localhost:8080/"
        },
        "id": "IzL4WaiOm_08",
        "outputId": "17bf2769-08ca-4dcd-f9f4-3195bb1ed7e1"
      },
      "source": [
        "#Problem.1\n",
        "#Rect1 area\n",
        "Length1 = float(input('what is the length for rect1 ? '))\n",
        "Width1 = float(input('what is the width for rect1 ? '))\n",
        "Area1= Length1 * Width1\n",
        "print('The area for rect1 is:',Area1)\n",
        "\n",
        "#Rect2 area\n",
        "Length2 = float(input('what is the length for rect2 ? '))\n",
        "Width2 = float(input('what is the width for rect2 ? '))\n",
        "Area2= Length2 * Width2\n",
        "print('The area for rect2 is:',Area2)\n",
        "\n",
        "if Area1 > Area2 :\n",
        "  print('Area1 is greater than Area2: ' ,Area1)\n",
        "\n",
        "elif Area2 > Area1:\n",
        "   print('Area2 is greater than Area1: ' ,Area2)\n",
        "\n",
        "else :\n",
        " print('Area1 & Area2 are the same')"
      ],
      "execution_count": null,
      "outputs": [
        {
          "output_type": "stream",
          "text": [
            "what is the length for rect1 ? 5\n",
            "what is the width for rect1 ? 3\n",
            "The area for rect1 is: 15.0\n",
            "what is the length for rect2 ? 2\n",
            "what is the width for rect2 ? 7.5\n",
            "The area for rect2 is: 15.0\n",
            "Area1 & Area2 are the same\n"
          ],
          "name": "stdout"
        }
      ]
    },
    {
      "cell_type": "code",
      "metadata": {
        "colab": {
          "base_uri": "https://localhost:8080/"
        },
        "id": "9Hy3ncVf7TPf",
        "outputId": "c48b0a49-0f8b-413d-999f-e81349ba2d68"
      },
      "source": [
        "#Problem.2\n",
        "num= int(input('please enter pocket number: '))\n",
        "\n",
        "if 0 <= num <= 36 :\n",
        "  if num == 0 :\n",
        "   print('Green')\n",
        "\n",
        "  elif 0 < num <= 10 :\n",
        "    if num %2 == 0 :\n",
        "     print ('Black')\n",
        "    else :\n",
        "     print ('Red')\n",
        "\n",
        "  elif 11 <= num <= 18 :\n",
        "    if num %2 == 0 :\n",
        "     print ('Red')\n",
        "    else :\n",
        "     print ('Black')\n",
        "\n",
        "  elif 19 <= num <= 28 :\n",
        "    if num %2 == 0 :\n",
        "     print ('Black')\n",
        "    else :\n",
        "     print ('Red')\n",
        "\n",
        "  elif 29 <= num <= 36 :\n",
        "    if num %2 == 0 :\n",
        "     print ('Red')\n",
        "    else :\n",
        "     print ('Black')\n",
        "\n",
        "else :\n",
        "  print('Out of range')"
      ],
      "execution_count": null,
      "outputs": [
        {
          "output_type": "stream",
          "text": [
            "please enter pocket number: 35\n",
            "Black\n"
          ],
          "name": "stdout"
        }
      ]
    },
    {
      "cell_type": "code",
      "metadata": {
        "id": "KpQ8XHnWpSM7",
        "colab": {
          "base_uri": "https://localhost:8080/"
        },
        "outputId": "c69183aa-196c-4587-9267-e229131ff249"
      },
      "source": [
        "#Problem.3\n",
        "\n",
        "W = float(input('please enter your weight: '))\n",
        "H = float(input('please enter your height: '))\n",
        "BMI = W * 703 / H**2\n",
        "\n",
        "if 18.5 <= BMI <= 25:\n",
        " print('your BMI is optimal, it\\'s: ' , BMI )\n",
        "\n",
        "elif BMI > 25:\n",
        " print('you\\'re overweight, it\\'s: ' , BMI )\n",
        "\n",
        "else :\n",
        " print('you\\'re underweight, it\\'s: ' , BMI )"
      ],
      "execution_count": null,
      "outputs": [
        {
          "output_type": "stream",
          "text": [
            "please enter your weight: 8\n",
            "please enter your height: 17\n",
            "your BMI is optimal, it's:  19.46020761245675\n"
          ],
          "name": "stdout"
        }
      ]
    }
  ]
}