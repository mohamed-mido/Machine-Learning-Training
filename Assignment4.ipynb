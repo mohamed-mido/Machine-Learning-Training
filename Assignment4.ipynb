{
  "nbformat": 4,
  "nbformat_minor": 0,
  "metadata": {
    "colab": {
      "name": "Assignment4.ipynb",
      "provenance": [],
      "authorship_tag": "ABX9TyOV3Kll40fXkKeNdXHWFr21",
      "include_colab_link": true
    },
    "kernelspec": {
      "name": "python3",
      "display_name": "Python 3"
    },
    "language_info": {
      "name": "python"
    }
  },
  "cells": [
    {
      "cell_type": "markdown",
      "metadata": {
        "id": "view-in-github",
        "colab_type": "text"
      },
      "source": [
        "<a href=\"https://colab.research.google.com/github/mohamed-mido/Machine-Learning-Training/blob/main/Assignment4.ipynb\" target=\"_parent\"><img src=\"https://colab.research.google.com/assets/colab-badge.svg\" alt=\"Open In Colab\"/></a>"
      ]
    },
    {
      "cell_type": "code",
      "metadata": {
        "id": "wNye9YGtKCFw",
        "colab": {
          "base_uri": "https://localhost:8080/"
        },
        "outputId": "03d3441d-a0c8-4216-ca1e-b4cb1320ee05"
      },
      "source": [
        "#Poblem.1\n",
        "\n",
        "class Car:\n",
        "\n",
        "    def __init__(self, year_model, make):\n",
        "        self.year_model = year_model\n",
        "        self.make = make\n",
        "        self.speed = 0\n",
        "\n",
        "    def accelerate(self):\n",
        "        self.speed += 5\n",
        "\n",
        "    def brake(self):\n",
        "        if self.speed >= 5:\n",
        "            self.speed -= 5\n",
        "        else:\n",
        "            self.speed = 0\n",
        "\n",
        "    def get_speed(self):\n",
        "        return self.speed\n",
        "\n",
        "my_car = Car(2020, \"Chevrolet\")\n",
        "\n",
        "print(\"Start Accelerating\")\n",
        "\n",
        "my_car.accelerate()\n",
        "print(\"The current speed of the car:\", my_car.get_speed())\n",
        "my_car.accelerate()\n",
        "print(\"The current speed of the car:\", my_car.get_speed())\n",
        "my_car.accelerate()\n",
        "print(\"The current speed of the car:\", my_car.get_speed())\n",
        "my_car.accelerate()\n",
        "print(\"The current speed of the car:\", my_car.get_speed())\n",
        "my_car.accelerate()\n",
        "print(\"The current speed of the car:\", my_car.get_speed())\n",
        "\n",
        "print(\"Start Braking\")\n",
        "\n",
        "my_car.brake()\n",
        "print(\"The current speed of the car:\", my_car.get_speed())\n",
        "my_car.brake()\n",
        "print(\"The current speed of the car:\", my_car.get_speed())\n",
        "my_car.brake()\n",
        "print(\"The current speed of the car:\", my_car.get_speed())\n",
        "my_car.brake()\n",
        "print(\"The current speed of the car:\", my_car.get_speed())\n",
        "my_car.brake()\n",
        "print(\"The current speed of the car:\", my_car.get_speed())"
      ],
      "execution_count": 5,
      "outputs": [
        {
          "output_type": "stream",
          "text": [
            "Start Accelerating\n",
            "The current speed of the car: 5\n",
            "The current speed of the car: 10\n",
            "The current speed of the car: 15\n",
            "The current speed of the car: 20\n",
            "The current speed of the car: 25\n",
            "Start Braking\n",
            "The current speed of the car: 20\n",
            "The current speed of the car: 15\n",
            "The current speed of the car: 10\n",
            "The current speed of the car: 5\n",
            "The current speed of the car: 0\n"
          ],
          "name": "stdout"
        }
      ]
    },
    {
      "cell_type": "code",
      "metadata": {
        "id": "j81bXGRepPt8"
      },
      "source": [
        "#Problem.2\n",
        "\n",
        "class Person:\n",
        "\n",
        "    def __init__(self, name, address, age, phone_number):\n",
        "        self.name = name\n",
        "        self.address = address\n",
        "        self.age = age\n",
        "        self.phone_number = phone_number\n",
        "\n",
        "    def setName(self, name):\n",
        "        self.name = name\n",
        "\n",
        "    def getName(self):\n",
        "        return self.name\n",
        "\n",
        "    def setAddress(self, address):\n",
        "        self.address = address\n",
        "\n",
        "    def getAddress(self):\n",
        "        return self.address\n",
        "\n",
        "    def setAge(self, age):\n",
        "        self.age = age\n",
        "\n",
        "    def getAge(self):\n",
        "        return self.age\n",
        "\n",
        "    def setPhoneNumber(self, phone_number):\n",
        "        self.phone_number = phone_number\n",
        "\n",
        "    def getPhoneNumber(self):\n",
        "        return self.phone_number\n",
        "        \n",
        "me = Person(\"MohamedAhmed\", \"Cairo\", 23, \"01234254591\")\n",
        "my_friend1 = Person(\"Sameh\", \"Giza\", 22, \"01123456789\")\n",
        "my_friend2 = Person(\"Gamal\", \"Nasr City\", 23, \"01023456789\")"
      ],
      "execution_count": 16,
      "outputs": []
    },
    {
      "cell_type": "code",
      "metadata": {
        "colab": {
          "base_uri": "https://localhost:8080/"
        },
        "id": "uxqLjcBfqi8t",
        "outputId": "b1707e9e-ed79-440c-b366-4eeef4cfe5da"
      },
      "source": [
        "#Problem.3\n",
        "\n",
        "class Employee:\n",
        "    \n",
        "    def __init__(self, name, id_number, department, job_title):\n",
        "        self.name = name\n",
        "        self.id_number = id_number\n",
        "        self.department = department\n",
        "        self.job_title = job_title\n",
        "\n",
        "    def setName(self, name):\n",
        "        self.name = name\n",
        "\n",
        "    def getName(self):\n",
        "        return self.name\n",
        "\n",
        "    def setIdNumber(self, id_number):\n",
        "        self.id_number = id_number\n",
        "\n",
        "    def getIdNumber(self):\n",
        "        return self.id_number\n",
        "\n",
        "    def setDepartment(self, department):\n",
        "        self.department = department\n",
        "\n",
        "    def getDepartment(self):\n",
        "        return self.department\n",
        "\n",
        "    def setJobTitle(self, job_title):\n",
        "        self.job_title = job_title\n",
        "\n",
        "    def getJobTitle(self):\n",
        "        return self.job_title\n",
        "\n",
        "    def toString(self):\n",
        "        return \"Employee Name: \" + self.getName() + \", ID Number: \" + str(self.getIdNumber()) + \", Department: \" + \\\n",
        "               self.getDepartment() + \", JobTitle: \" + self.getJobTitle()\n",
        "\n",
        "Nadia = Employee(\"Nadia\", 68621, \"Accounting\", \"Vice President\")\n",
        "print(Nadia.toString())\n",
        "Adam = Employee(\"Adam Jones\", 55269, \"IT\", \"Programmer\")\n",
        "print(Adam.toString())\n",
        "Emil = Employee(\"Emil Rogers\", 96315, \"Manufacturing\", \"Engineer\")\n",
        "print(Emil.toString())"
      ],
      "execution_count": 19,
      "outputs": [
        {
          "output_type": "stream",
          "text": [
            "Employee Name: Nadia, ID Number: 68621, Department: Accounting, JobTitle: Vice President\n",
            "Employee Name: Adam Jones, ID Number: 55269, Department: IT, JobTitle: Programmer\n",
            "Employee Name: Emil Rogers, ID Number: 96315, Department: Manufacturing, JobTitle: Engineer\n"
          ],
          "name": "stdout"
        }
      ]
    },
    {
      "cell_type": "code",
      "metadata": {
        "colab": {
          "base_uri": "https://localhost:8080/",
          "height": 629
        },
        "id": "uD5vvBltrPoa",
        "outputId": "699054a0-326b-43b2-df81-6bc230f860e9"
      },
      "source": [
        "#Problem.4\n",
        "\n",
        "import pickle\n",
        "try:\n",
        "    with open('EmployeeDictionaryPickle.txt', 'rb') as file:\n",
        "        employee_dictionary = pickle.load(file)\n",
        "\n",
        "except FileNotFoundError:\n",
        "    employee_dictionary = {}\n",
        "\n",
        "\n",
        "def addEmployee(name, id_number, department, job_title):\n",
        "    employee_dictionary[id_number] = Employee(name, id_number, department, job_title)\n",
        "\n",
        "\n",
        "def lookupEmployee(id_number):\n",
        "    return employee_dictionary[id_number].toString()\n",
        "\n",
        "\n",
        "def changeEmployeeData(id_number, data_to_change, new_data):\n",
        "    if data_to_change == \"name\":\n",
        "        employee_dictionary[id_number].setName(new_data)\n",
        "    elif data_to_change == \"department\":\n",
        "        employee_dictionary[id_number].setDepartment(new_data)\n",
        "    elif data_to_change == \"job_title\":\n",
        "        employee_dictionary[id_number].setJobTitle(new_data)\n",
        "    else:\n",
        "        raise Exception(\"Sorry, You Enter wrong data\")\n",
        "\n",
        "\n",
        "def deleteEmployee(id_number):\n",
        "    employee_dictionary.pop(id_number)\n",
        "\n",
        "\n",
        "def quitProgram():\n",
        "    with open('EmployeeDictionaryPickle.txt', 'ab') as file:\n",
        "        pickle.dump(employee_dictionary, file)\n",
        "\n",
        "while True:\n",
        "\n",
        "    print(\"Please Enter the number of action you want to perform:\", \"1 - Add a new employee to the dictionary\",\n",
        "          \"2 - Look up an employee in the dictionary\",\n",
        "          \"3 - Change an existing employee’s name, department, and job title in the dictionary\",\n",
        "          \"4 - Delete an employee from the dictionary\", \"5 - Quit the program\", sep=\"\\n\")\n",
        "    \n",
        "    action = input(\"action number: \")\n",
        "    \n",
        "    if action == '1':\n",
        "        name = input(\"Enter Employee Name:\")\n",
        "        id_number = input(\"Enter Employee Id:\")\n",
        "        department = input(\"Enter Employee Department:\")\n",
        "        job_title = input(\"Enter Employee Job Title:\")\n",
        "        addEmployee(name, id_number, department, job_title)\n",
        "\n",
        "    elif action == '2':\n",
        "        id_number = input(\"Enter Employee Id to Lookup:\")\n",
        "        try:\n",
        "            print(lookupEmployee(id_number))\n",
        "        except KeyError:\n",
        "            print(\"Invalid Id Number\")\n",
        "\n",
        "    elif action == '3':\n",
        "        id_number = input(\"Enter Employee Id:\")\n",
        "        data_to_change = input(\"Enter 'name' to change name or 'department' to change department or\"\n",
        "                               \" 'job_title' to change job title: \")\n",
        "        new_data = input(\"The new data: \")\n",
        "        changeEmployeeData(id_number, data_to_change, new_data)\n",
        "\n",
        "    elif action == '4':\n",
        "        id_number = input(\"Enter Employee Id to delete:\")\n",
        "        deleteEmployee(id_number)\n",
        "\n",
        "    elif action == '5':\n",
        "        quitProgram()\n",
        "        break\n",
        "\n",
        "    else:\n",
        "        print(\"Invalid Action Number\")"
      ],
      "execution_count": 23,
      "outputs": [
        {
          "output_type": "stream",
          "text": [
            "Please Enter the number of action you want to perform:\n",
            "1 - Add a new employee to the dictionary\n",
            "2 - Look up an employee in the dictionary\n",
            "3 - Change an existing employee’s name, department, and job title in the dictionary\n",
            "4 - Delete an employee from the dictionary\n",
            "5 - Quit the program\n"
          ],
          "name": "stdout"
        },
        {
          "output_type": "error",
          "ename": "KeyboardInterrupt",
          "evalue": "ignored",
          "traceback": [
            "\u001b[0;31m---------------------------------------------------------------------------\u001b[0m",
            "\u001b[0;31mKeyboardInterrupt\u001b[0m                         Traceback (most recent call last)",
            "\u001b[0;32m/usr/local/lib/python3.7/dist-packages/ipykernel/kernelbase.py\u001b[0m in \u001b[0;36m_input_request\u001b[0;34m(self, prompt, ident, parent, password)\u001b[0m\n\u001b[1;32m    728\u001b[0m             \u001b[0;32mtry\u001b[0m\u001b[0;34m:\u001b[0m\u001b[0;34m\u001b[0m\u001b[0;34m\u001b[0m\u001b[0m\n\u001b[0;32m--> 729\u001b[0;31m                 \u001b[0mident\u001b[0m\u001b[0;34m,\u001b[0m \u001b[0mreply\u001b[0m \u001b[0;34m=\u001b[0m \u001b[0mself\u001b[0m\u001b[0;34m.\u001b[0m\u001b[0msession\u001b[0m\u001b[0;34m.\u001b[0m\u001b[0mrecv\u001b[0m\u001b[0;34m(\u001b[0m\u001b[0mself\u001b[0m\u001b[0;34m.\u001b[0m\u001b[0mstdin_socket\u001b[0m\u001b[0;34m,\u001b[0m \u001b[0;36m0\u001b[0m\u001b[0;34m)\u001b[0m\u001b[0;34m\u001b[0m\u001b[0;34m\u001b[0m\u001b[0m\n\u001b[0m\u001b[1;32m    730\u001b[0m             \u001b[0;32mexcept\u001b[0m \u001b[0mException\u001b[0m\u001b[0;34m:\u001b[0m\u001b[0;34m\u001b[0m\u001b[0;34m\u001b[0m\u001b[0m\n",
            "\u001b[0;32m/usr/local/lib/python3.7/dist-packages/jupyter_client/session.py\u001b[0m in \u001b[0;36mrecv\u001b[0;34m(self, socket, mode, content, copy)\u001b[0m\n\u001b[1;32m    802\u001b[0m         \u001b[0;32mtry\u001b[0m\u001b[0;34m:\u001b[0m\u001b[0;34m\u001b[0m\u001b[0;34m\u001b[0m\u001b[0m\n\u001b[0;32m--> 803\u001b[0;31m             \u001b[0mmsg_list\u001b[0m \u001b[0;34m=\u001b[0m \u001b[0msocket\u001b[0m\u001b[0;34m.\u001b[0m\u001b[0mrecv_multipart\u001b[0m\u001b[0;34m(\u001b[0m\u001b[0mmode\u001b[0m\u001b[0;34m,\u001b[0m \u001b[0mcopy\u001b[0m\u001b[0;34m=\u001b[0m\u001b[0mcopy\u001b[0m\u001b[0;34m)\u001b[0m\u001b[0;34m\u001b[0m\u001b[0;34m\u001b[0m\u001b[0m\n\u001b[0m\u001b[1;32m    804\u001b[0m         \u001b[0;32mexcept\u001b[0m \u001b[0mzmq\u001b[0m\u001b[0;34m.\u001b[0m\u001b[0mZMQError\u001b[0m \u001b[0;32mas\u001b[0m \u001b[0me\u001b[0m\u001b[0;34m:\u001b[0m\u001b[0;34m\u001b[0m\u001b[0;34m\u001b[0m\u001b[0m\n",
            "\u001b[0;32m/usr/local/lib/python3.7/dist-packages/zmq/sugar/socket.py\u001b[0m in \u001b[0;36mrecv_multipart\u001b[0;34m(self, flags, copy, track)\u001b[0m\n\u001b[1;32m    582\u001b[0m         \"\"\"\n\u001b[0;32m--> 583\u001b[0;31m         \u001b[0mparts\u001b[0m \u001b[0;34m=\u001b[0m \u001b[0;34m[\u001b[0m\u001b[0mself\u001b[0m\u001b[0;34m.\u001b[0m\u001b[0mrecv\u001b[0m\u001b[0;34m(\u001b[0m\u001b[0mflags\u001b[0m\u001b[0;34m,\u001b[0m \u001b[0mcopy\u001b[0m\u001b[0;34m=\u001b[0m\u001b[0mcopy\u001b[0m\u001b[0;34m,\u001b[0m \u001b[0mtrack\u001b[0m\u001b[0;34m=\u001b[0m\u001b[0mtrack\u001b[0m\u001b[0;34m)\u001b[0m\u001b[0;34m]\u001b[0m\u001b[0;34m\u001b[0m\u001b[0;34m\u001b[0m\u001b[0m\n\u001b[0m\u001b[1;32m    584\u001b[0m         \u001b[0;31m# have first part already, only loop while more to receive\u001b[0m\u001b[0;34m\u001b[0m\u001b[0;34m\u001b[0m\u001b[0;34m\u001b[0m\u001b[0m\n",
            "\u001b[0;32mzmq/backend/cython/socket.pyx\u001b[0m in \u001b[0;36mzmq.backend.cython.socket.Socket.recv\u001b[0;34m()\u001b[0m\n",
            "\u001b[0;32mzmq/backend/cython/socket.pyx\u001b[0m in \u001b[0;36mzmq.backend.cython.socket.Socket.recv\u001b[0;34m()\u001b[0m\n",
            "\u001b[0;32mzmq/backend/cython/socket.pyx\u001b[0m in \u001b[0;36mzmq.backend.cython.socket._recv_copy\u001b[0;34m()\u001b[0m\n",
            "\u001b[0;32m/usr/local/lib/python3.7/dist-packages/zmq/backend/cython/checkrc.pxd\u001b[0m in \u001b[0;36mzmq.backend.cython.checkrc._check_rc\u001b[0;34m()\u001b[0m\n",
            "\u001b[0;31mKeyboardInterrupt\u001b[0m: ",
            "\nDuring handling of the above exception, another exception occurred:\n",
            "\u001b[0;31mKeyboardInterrupt\u001b[0m                         Traceback (most recent call last)",
            "\u001b[0;32m<ipython-input-23-10fffbae7eb5>\u001b[0m in \u001b[0;36m<module>\u001b[0;34m()\u001b[0m\n\u001b[1;32m     44\u001b[0m           \"4 - Delete an employee from the dictionary\", \"5 - Quit the program\", sep=\"\\n\")\n\u001b[1;32m     45\u001b[0m \u001b[0;34m\u001b[0m\u001b[0m\n\u001b[0;32m---> 46\u001b[0;31m     \u001b[0maction\u001b[0m \u001b[0;34m=\u001b[0m \u001b[0minput\u001b[0m\u001b[0;34m(\u001b[0m\u001b[0;34m\"action number: \"\u001b[0m\u001b[0;34m)\u001b[0m\u001b[0;34m\u001b[0m\u001b[0;34m\u001b[0m\u001b[0m\n\u001b[0m\u001b[1;32m     47\u001b[0m \u001b[0;34m\u001b[0m\u001b[0m\n\u001b[1;32m     48\u001b[0m     \u001b[0;32mif\u001b[0m \u001b[0maction\u001b[0m \u001b[0;34m==\u001b[0m \u001b[0;34m'1'\u001b[0m\u001b[0;34m:\u001b[0m\u001b[0;34m\u001b[0m\u001b[0;34m\u001b[0m\u001b[0m\n",
            "\u001b[0;32m/usr/local/lib/python3.7/dist-packages/ipykernel/kernelbase.py\u001b[0m in \u001b[0;36mraw_input\u001b[0;34m(self, prompt)\u001b[0m\n\u001b[1;32m    702\u001b[0m             \u001b[0mself\u001b[0m\u001b[0;34m.\u001b[0m\u001b[0m_parent_ident\u001b[0m\u001b[0;34m,\u001b[0m\u001b[0;34m\u001b[0m\u001b[0;34m\u001b[0m\u001b[0m\n\u001b[1;32m    703\u001b[0m             \u001b[0mself\u001b[0m\u001b[0;34m.\u001b[0m\u001b[0m_parent_header\u001b[0m\u001b[0;34m,\u001b[0m\u001b[0;34m\u001b[0m\u001b[0;34m\u001b[0m\u001b[0m\n\u001b[0;32m--> 704\u001b[0;31m             \u001b[0mpassword\u001b[0m\u001b[0;34m=\u001b[0m\u001b[0;32mFalse\u001b[0m\u001b[0;34m,\u001b[0m\u001b[0;34m\u001b[0m\u001b[0;34m\u001b[0m\u001b[0m\n\u001b[0m\u001b[1;32m    705\u001b[0m         )\n\u001b[1;32m    706\u001b[0m \u001b[0;34m\u001b[0m\u001b[0m\n",
            "\u001b[0;32m/usr/local/lib/python3.7/dist-packages/ipykernel/kernelbase.py\u001b[0m in \u001b[0;36m_input_request\u001b[0;34m(self, prompt, ident, parent, password)\u001b[0m\n\u001b[1;32m    732\u001b[0m             \u001b[0;32mexcept\u001b[0m \u001b[0mKeyboardInterrupt\u001b[0m\u001b[0;34m:\u001b[0m\u001b[0;34m\u001b[0m\u001b[0;34m\u001b[0m\u001b[0m\n\u001b[1;32m    733\u001b[0m                 \u001b[0;31m# re-raise KeyboardInterrupt, to truncate traceback\u001b[0m\u001b[0;34m\u001b[0m\u001b[0;34m\u001b[0m\u001b[0;34m\u001b[0m\u001b[0m\n\u001b[0;32m--> 734\u001b[0;31m                 \u001b[0;32mraise\u001b[0m \u001b[0mKeyboardInterrupt\u001b[0m\u001b[0;34m\u001b[0m\u001b[0;34m\u001b[0m\u001b[0m\n\u001b[0m\u001b[1;32m    735\u001b[0m             \u001b[0;32melse\u001b[0m\u001b[0;34m:\u001b[0m\u001b[0;34m\u001b[0m\u001b[0;34m\u001b[0m\u001b[0m\n\u001b[1;32m    736\u001b[0m                 \u001b[0;32mbreak\u001b[0m\u001b[0;34m\u001b[0m\u001b[0;34m\u001b[0m\u001b[0m\n",
            "\u001b[0;31mKeyboardInterrupt\u001b[0m: "
          ]
        }
      ]
    },
    {
      "cell_type": "code",
      "metadata": {
        "colab": {
          "base_uri": "https://localhost:8080/"
        },
        "id": "Qs-1AHlFr068",
        "outputId": "528d95c3-406c-4070-d0d0-53b1c6e153e9"
      },
      "source": [
        "#Problem.5\n",
        "\n",
        "class Employee:\n",
        "\n",
        "    def __init__(self, name, employee_number):\n",
        "        self.name = name\n",
        "        self.employee_number = employee_number\n",
        "\n",
        "    def setName(self, name):\n",
        "        self.name = name\n",
        "\n",
        "    def getName(self):\n",
        "        return self.name\n",
        "\n",
        "    def setEmployeeNumber(self, employee_number):\n",
        "        self.employee_number = employee_number\n",
        "\n",
        "    def getEmployeeNumber(self):\n",
        "        return self.employee_number\n",
        "\n",
        "    def toString(self):\n",
        "        return \"Employee Name: \" + self.getName() + \", Employee Number: \" + str(self.getEmployeeNumber())\n",
        "\n",
        "class ProductionWorker(Employee):\n",
        "\n",
        "    def __init__(self, name, employee_number, shift_number, hourly_pay_rate):\n",
        "        Employee.__init__(self, name, employee_number)\n",
        "        self.shift_number = shift_number\n",
        "        self.hourly_pay_rate = hourly_pay_rate\n",
        "\n",
        "    def getShiftNumber(self):\n",
        "        return self.shift_number\n",
        "\n",
        "    def getHourlyPayRate(self):\n",
        "        return self.hourly_pay_rate\n",
        "\n",
        "    def toString(self):\n",
        "        return \"Worker Name: \" + self.getName() + \", Worker Number: \" + str(self.getEmployeeNumber()) + \\\n",
        "               \", Worker Shift Number: \" + str(self.getShiftNumber()) + \\\n",
        "               \", Worker Hourly Pay Rate: \" + str(self.getHourlyPayRate())\n",
        "\n",
        "worker_name = input(\"Please Enter the worker name: \")\n",
        "worker_number = int(input(\"Please Enter the worker number: \"))\n",
        "worker_shift_number = int(input(\"Please Enter the worker shift number: \"))\n",
        "worker_hourly_pay_rate = float(input(\"Please Enter the worker hourly pay rate: \"))\n",
        "worker = ProductionWorker(worker_name, worker_number, worker_shift_number, worker_hourly_pay_rate)\n",
        "print(worker.toString())"
      ],
      "execution_count": 24,
      "outputs": [
        {
          "output_type": "stream",
          "text": [
            "Please Enter the worker name: mohamed\n",
            "Please Enter the worker number: 17\n",
            "Please Enter the worker shift number: 8\n",
            "Please Enter the worker hourly pay rate: 15\n",
            "Worker Name: mohamed, Worker Number: 17, Worker Shift Number: 8, Worker Hourly Pay Rate: 15.0\n"
          ],
          "name": "stdout"
        }
      ]
    },
    {
      "cell_type": "code",
      "metadata": {
        "colab": {
          "base_uri": "https://localhost:8080/"
        },
        "id": "gX6xDWtUsZ29",
        "outputId": "b6088234-0811-4a3a-9421-088947886418"
      },
      "source": [
        "#Problem.6\n",
        "\n",
        "class Employee:\n",
        "    def __init__(self, salary, bonus, name, idnum):\n",
        "        self.salary = salary\n",
        "        self.bonus = bonus\n",
        "        self.name = name\n",
        "        self.idnum = idnum\n",
        "\n",
        "class ShiftSupervisor(Employee):\n",
        "    def __init__(self, salary, bonus, name, idnum, shift_number):\n",
        "        super().__init__(salary, bonus, name, idnum)\n",
        "        self.shift_number = shift_number\n",
        "\n",
        "\n",
        "def main():\n",
        "    shift1 = ShiftSupervisor(28000.0, 2240.0, 'Ian McGregor', 'S10001', 1)\n",
        "    shift2 = ShiftSupervisor(29500, 2360.0, 'Brian Bory', 'S20202', 2)\n",
        "    shift3 = ShiftSupervisor(28750.0, 2300.0, 'Finn McCool', 'S30045', 3)\n",
        "\n",
        "    find_income(shift1)\n",
        "    find_income(shift2)\n",
        "    find_income(shift3)\n",
        "\n",
        "def find_income(employee):\n",
        "    production = input('Did shift {0} make quota this year? Type Y for yes '.format(employee.shift_number))\n",
        "    if production.lower() == 'y':\n",
        "        total_income = employee.salary + employee.bonus\n",
        "    else:\n",
        "        total_income = employee.salary\n",
        "    print(\"{0}'s Total income is: ${1}\".format(employee.name, total_income))\n",
        "\n",
        "main()"
      ],
      "execution_count": 25,
      "outputs": [
        {
          "output_type": "stream",
          "text": [
            "Did shift 1 make quota this year? Type Y for yes Y\n",
            "Ian McGregor's Total income is: $30240.0\n",
            "Did shift 2 make quota this year? Type Y for yes N\n",
            "Brian Bory's Total income is: $29500\n",
            "Did shift 3 make quota this year? Type Y for yes N\n",
            "Finn McCool's Total income is: $28750.0\n"
          ],
          "name": "stdout"
        }
      ]
    },
    {
      "cell_type": "code",
      "metadata": {
        "colab": {
          "base_uri": "https://localhost:8080/"
        },
        "id": "G5DPir7NsmvL",
        "outputId": "7343192f-048c-4a6c-acbe-e58b1b03998d"
      },
      "source": [
        "#Problem.8\n",
        "\n",
        "\n",
        "def main():\n",
        "    x = int(input(\"enter x = \"))\n",
        "    y = int(input(\"enter y = \"))\n",
        "    print(mult(x, y))\n",
        "\n",
        "def mult(x, y):\n",
        "    if x == 0:\n",
        "        return 0\n",
        "    return y + mult(x - 1, y)\n",
        "main()"
      ],
      "execution_count": 26,
      "outputs": [
        {
          "output_type": "stream",
          "text": [
            "enter x = 3\n",
            "enter y = 5\n",
            "15\n"
          ],
          "name": "stdout"
        }
      ]
    },
    {
      "cell_type": "code",
      "metadata": {
        "colab": {
          "base_uri": "https://localhost:8080/"
        },
        "id": "GYoY6YtrszQZ",
        "outputId": "8f805956-884b-468e-acab-d9df694b6768"
      },
      "source": [
        "#Problem.9\n",
        "\n",
        "def main():\n",
        "  asterisks(6)\n",
        "\n",
        "def asterisks(n):\n",
        "  if n>1:\n",
        "    asterisks(n-1)\n",
        "    print('*' * n)\n",
        "\n",
        "  else:\n",
        "    print('*')\n",
        "\n",
        "main()"
      ],
      "execution_count": 27,
      "outputs": [
        {
          "output_type": "stream",
          "text": [
            "*\n",
            "**\n",
            "***\n",
            "****\n",
            "*****\n",
            "******\n"
          ],
          "name": "stdout"
        }
      ]
    },
    {
      "cell_type": "code",
      "metadata": {
        "colab": {
          "base_uri": "https://localhost:8080/"
        },
        "id": "EYKugKMjs2az",
        "outputId": "292820a0-2ad4-4aff-b42f-4898e62efca8"
      },
      "source": [
        "#Problem.10\n",
        "\n",
        "def main():\n",
        "  print(raise_number(2,9))\n",
        "\n",
        "\n",
        "def raise_number(base,exp):\n",
        "  if exp == 0:\n",
        "    return 1\n",
        "\n",
        "  else:\n",
        "    return base * raise_number(base, exp - 1)\n",
        "\n",
        "main()"
      ],
      "execution_count": 30,
      "outputs": [
        {
          "output_type": "stream",
          "text": [
            "512\n"
          ],
          "name": "stdout"
        }
      ]
    }
  ]
}