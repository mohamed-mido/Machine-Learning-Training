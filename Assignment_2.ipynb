{
  "nbformat": 4,
  "nbformat_minor": 0,
  "metadata": {
    "colab": {
      "name": "Assignment 2.ipynb",
      "provenance": [],
      "authorship_tag": "ABX9TyNvW6Zqnd3ISDNEyE2jtTGA",
      "include_colab_link": true
    },
    "kernelspec": {
      "name": "python3",
      "display_name": "Python 3"
    },
    "language_info": {
      "name": "python"
    }
  },
  "cells": [
    {
      "cell_type": "markdown",
      "metadata": {
        "id": "view-in-github",
        "colab_type": "text"
      },
      "source": [
        "<a href=\"https://colab.research.google.com/github/mohamed-mido/Machine-Learning-Training/blob/main/Assignment_2.ipynb\" target=\"_parent\"><img src=\"https://colab.research.google.com/assets/colab-badge.svg\" alt=\"Open In Colab\"/></a>"
      ]
    },
    {
      "cell_type": "code",
      "metadata": {
        "colab": {
          "base_uri": "https://localhost:8080/"
        },
        "id": "_K-9tROhBsa6",
        "outputId": "12ae3e47-8c0f-4afc-c4b9-e4fa2eb89a05"
      },
      "source": [
        "#Problem.1\n",
        "\n",
        "for min in range (10,31,5):\n",
        "  print(\"calories you have burnt in\",min,\"minutes is\" ,format(min*4.2, '.2f'), \"calories\")"
      ],
      "execution_count": null,
      "outputs": [
        {
          "output_type": "stream",
          "text": [
            "calories you have burnt in 10 minutes is 42.00 calories\n",
            "calories you have burnt in 15 minutes is 63.00 calories\n",
            "calories you have burnt in 20 minutes is 84.00 calories\n",
            "calories you have burnt in 25 minutes is 105.00 calories\n",
            "calories you have burnt in 30 minutes is 126.00 calories\n"
          ],
          "name": "stdout"
        }
      ]
    },
    {
      "cell_type": "code",
      "metadata": {
        "colab": {
          "base_uri": "https://localhost:8080/"
        },
        "id": "1r_gUW6XFL7z",
        "outputId": "03e749f2-3083-467d-bc30-0e2f95d5565d"
      },
      "source": [
        "#Problem.2\n",
        "\n",
        "speed = int(input (\"what is the speed of the vehicle in mph? \"))\n",
        "time = int(input (\"how many hours has it travelled? \"))\n",
        "\n",
        "print()\n",
        "print(\"Hour\\tDistance Travelled\")\n",
        "print(\"________________________\")\n",
        "\n",
        "for h in range (1,time+1):\n",
        "  distance= h*speed\n",
        "  print(h,\"\\t\",distance)"
      ],
      "execution_count": 38,
      "outputs": [
        {
          "output_type": "stream",
          "text": [
            "what is the speed of the vehicle in mph?5\n",
            "how many hours has it travelled? 7\n",
            "\n",
            "Hour\tDistance Travelled\n",
            "________________________\n",
            "1 \t 5\n",
            "2 \t 10\n",
            "3 \t 15\n",
            "4 \t 20\n",
            "5 \t 25\n",
            "6 \t 30\n",
            "7 \t 35\n"
          ],
          "name": "stdout"
        }
      ]
    },
    {
      "cell_type": "code",
      "metadata": {
        "colab": {
          "base_uri": "https://localhost:8080/"
        },
        "id": "-kgjGbxpM4Hd",
        "outputId": "29948734-5da5-449d-fecd-10a7d7e57fef"
      },
      "source": [
        "#Problem.3\n",
        "\n",
        "print(\"Celisus\\tFahrenheit\")\n",
        "print(\"___________________\")\n",
        "\n",
        "for c in range (0,21):\n",
        "  f=9/5 *c + 32\n",
        "  print(c, \"\\t\" ,format(f,'.1f'))"
      ],
      "execution_count": null,
      "outputs": [
        {
          "output_type": "stream",
          "text": [
            "Celisus\tFahrenheit\n",
            "___________________\n",
            "0 \t 32.0\n",
            "1 \t 33.8\n",
            "2 \t 35.6\n",
            "3 \t 37.4\n",
            "4 \t 39.2\n",
            "5 \t 41.0\n",
            "6 \t 42.8\n",
            "7 \t 44.6\n",
            "8 \t 46.4\n",
            "9 \t 48.2\n",
            "10 \t 50.0\n",
            "11 \t 51.8\n",
            "12 \t 53.6\n",
            "13 \t 55.4\n",
            "14 \t 57.2\n",
            "15 \t 59.0\n",
            "16 \t 60.8\n",
            "17 \t 62.6\n",
            "18 \t 64.4\n",
            "19 \t 66.2\n",
            "20 \t 68.0\n"
          ],
          "name": "stdout"
        }
      ]
    },
    {
      "cell_type": "code",
      "metadata": {
        "colab": {
          "base_uri": "https://localhost:8080/"
        },
        "id": "VCpWbcccVGMc",
        "outputId": "f07daebd-989d-4816-b534-aacba26e82db"
      },
      "source": [
        "#Problem.4\n",
        "\n",
        "num = int(input(\"Please enter the number: \"))\n",
        "factorial = 1  \n",
        "if num < 0:  \n",
        "   print(\"Sorry, factorial does not exist for negative numbers\")  \n",
        "elif num == 0:  \n",
        "   print(\"The factorial of 0 is 1\")  \n",
        "else:  \n",
        "   for i in range(1,num + 1):  \n",
        "       factorial = factorial*i  \n",
        "   print(\"The factorial of\",num,\"is\",factorial)  "
      ],
      "execution_count": 17,
      "outputs": [
        {
          "output_type": "stream",
          "text": [
            "Please enter the number: 6\n",
            "The factorial of 6 is 720\n"
          ],
          "name": "stdout"
        }
      ]
    },
    {
      "cell_type": "code",
      "metadata": {
        "colab": {
          "base_uri": "https://localhost:8080/"
        },
        "id": "j0RqilXXVaHi",
        "outputId": "21433123-cbf8-4ed2-b473-cab08bb96f86"
      },
      "source": [
        "#Problem.5 part 1\n",
        "i = int(input('Enter the number of rows'\"\\t\"))\n",
        "print()\n",
        "for i in range(i,0,-1):\n",
        "    print(i*\"*\")"
      ],
      "execution_count": 42,
      "outputs": [
        {
          "output_type": "stream",
          "text": [
            "Enter the number of rows\t7\n",
            "\n",
            "*******\n",
            "******\n",
            "*****\n",
            "****\n",
            "***\n",
            "**\n",
            "*\n"
          ],
          "name": "stdout"
        }
      ]
    },
    {
      "cell_type": "code",
      "metadata": {
        "colab": {
          "base_uri": "https://localhost:8080/"
        },
        "id": "GR_AfkBVWWn3",
        "outputId": "54be6005-5e33-4c62-b305-1edc57cb6fe6"
      },
      "source": [
        "#Problem.5 part 2\n",
        " \n",
        "for i in range(6):\n",
        "    print(\"#\" + i*\" \" + \"#\")"
      ],
      "execution_count": 19,
      "outputs": [
        {
          "output_type": "stream",
          "text": [
            "##\n",
            "# #\n",
            "#  #\n",
            "#   #\n",
            "#    #\n",
            "#     #\n"
          ],
          "name": "stdout"
        }
      ]
    },
    {
      "cell_type": "code",
      "metadata": {
        "colab": {
          "base_uri": "https://localhost:8080/"
        },
        "id": "LhLZFKS1PNNG",
        "outputId": "7aedcf4b-dfb2-45d5-b7fa-8e5c544aab2a"
      },
      "source": [
        "#Problem.6\n",
        "\n",
        "import random\n",
        "def main ():\n",
        "\n",
        " n1 = random.randint(1,1000)\n",
        " n2 = random.randint(1,1000)\n",
        "\n",
        " correct_answer = sum (n1,n2)\n",
        " print(n1,'+',n2, '=')\n",
        "\n",
        " student_answer = int(input(\"what is the sum of two numbers? \"))\n",
        " if student_answer == correct_answer :\n",
        "   correct()\n",
        "\n",
        " else:\n",
        "   wrong(correct_answer)\n",
        "\n",
        "def sum (x,y):\n",
        " z = x+y\n",
        " return z\n",
        "\n",
        "def correct ():\n",
        " print(\"Congrats \")\n",
        "\n",
        "def wrong (correct_answer):\n",
        " print(\"Wrong Answer, The correct answer is \",correct_answer)\n",
        "\n",
        "\n",
        "main()\n"
      ],
      "execution_count": 16,
      "outputs": [
        {
          "output_type": "stream",
          "text": [
            "77 + 804 =\n",
            "what is the sum of two numbers? 50\n",
            "Wrong Answer, The correct answer is  881\n"
          ],
          "name": "stdout"
        }
      ]
    },
    {
      "cell_type": "code",
      "metadata": {
        "id": "LuQ46PQxVLba",
        "colab": {
          "base_uri": "https://localhost:8080/"
        },
        "outputId": "51ccfa86-432b-4bd9-f27e-e30ad521f2aa"
      },
      "source": [
        "#Problem.7\n",
        "\n",
        "def main():\n",
        " mass = float(input(\"Enter the mass of object in kilograms \"))\n",
        " velocity = float(input(\"Enter the velocity \"))\n",
        " Kinetic_Energy = KE(mass,velocity)\n",
        " print(\"Kinetic Energy equals \",Kinetic_Energy)\n",
        "\n",
        "def KE(m,v):\n",
        "  KE= 0.5*m*v**2\n",
        "  return KE\n",
        "\n",
        "main()"
      ],
      "execution_count": 43,
      "outputs": [
        {
          "output_type": "stream",
          "text": [
            "Enter the mass of object in kilograms 12\n",
            "Enter the velocity 60\n",
            "Kinetic Energy equals  21600.0\n"
          ],
          "name": "stdout"
        }
      ]
    }
  ]
}